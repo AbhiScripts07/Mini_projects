{
 "cells": [
  {
   "cell_type": "code",
   "execution_count": 24,
   "id": "1485a7f6-7258-4439-85e8-823b818bb9a5",
   "metadata": {},
   "outputs": [
    {
     "name": "stdout",
     "output_type": "stream",
     "text": [
      "[b'https://www.google.com/']\n"
     ]
    }
   ],
   "source": [
    "import qrcode\n",
    "\n",
    "input_URL = \"https://www.google.com/\"\n",
    "\n",
    "qr = qrcode.QRCode(\n",
    "    version=1,\n",
    "    error_correction=0,\n",
    "    box_size=15,\n",
    "    border=4,\n",
    ")\n",
    "\n",
    "qr.add_data(input_URL)\n",
    "qr.make(fit=True)\n",
    "\n",
    "img = qr.make_image(fill_color=\"black\", back_color=\"white\");\n",
    "img.save(r'C:\\Users\\SLL1068\\Desktop\\url_qrcode.png')\n",
    "\n",
    "print(qr.data_list)"
   ]
  },
  {
   "cell_type": "code",
   "execution_count": null,
   "id": "d39fd119-3b66-4e61-828d-e745ce6a3dc0",
   "metadata": {},
   "outputs": [],
   "source": []
  },
  {
   "cell_type": "code",
   "execution_count": null,
   "id": "a15286c1-d4c1-4089-8ce2-e94ef950d957",
   "metadata": {},
   "outputs": [],
   "source": []
  }
 ],
 "metadata": {
  "kernelspec": {
   "display_name": "Python 3 (ipykernel)",
   "language": "python",
   "name": "python3"
  },
  "language_info": {
   "codemirror_mode": {
    "name": "ipython",
    "version": 3
   },
   "file_extension": ".py",
   "mimetype": "text/x-python",
   "name": "python",
   "nbconvert_exporter": "python",
   "pygments_lexer": "ipython3",
   "version": "3.11.5"
  }
 },
 "nbformat": 4,
 "nbformat_minor": 5
}
